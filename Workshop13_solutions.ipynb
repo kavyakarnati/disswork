{
 "cells": [
  {
   "cell_type": "markdown",
   "metadata": {},
   "source": [
    "# Workshop 13: Linear algebra with Python\n",
    "\n",
    "## Learning Outcomes\n",
    "\n",
    "By the end of this workshop you will:\n",
    " * understand how to use 2d arrays to solve linear algebra problems\n",
    " * be able to write a simple routine to solve a system of n equations\n",
    " * know how to use the linear solver from the SciPy package\n",
    " \n",
    "## Linear algebra\n",
    "\n",
    "One of the great things about computers is that they are good at doing tasks accurately and repeatedly, and not getting bored with doing them -- unlike humans! As such, they are good for tackling a lot of mathematics problems that a human could potentially solve but would not really want to. For example, you should be able to solve the following pair of linear algebraic equations:\n",
    "$$\n",
    "2x + 3y = 8\n",
    "$$\n",
    "$$\n",
    "-x + y = 1\n",
    "$$\n",
    "and find that $x=1, y=2$. But if you were given 20 equations with 20 unknowns, you would no doubt find it tedious and if you are anything like me, you would make a handful of mistakes in the process. It is far better that we get the computer to do it for us. That is what we will be looking at today."
   ]
  },
  {
   "cell_type": "markdown",
   "metadata": {},
   "source": [
    "### Introduction: arrays and their manipulation\n",
    "\n",
    "Before we start on the details of how to solve linear systems of equations, we need to be familiar with arrays as we will ultimately be putting the coefficients of our equations into these structures so that we can work with them.\n",
    "\n",
    "Arrays are a form of data structure provided by the NumPy (Numerical Python) package, which we first need to import:"
   ]
  },
  {
   "cell_type": "code",
   "execution_count": 2,
   "metadata": {},
   "outputs": [],
   "source": [
    "import numpy as np"
   ]
  },
  {
   "cell_type": "markdown",
   "metadata": {},
   "source": [
    "We can then use NumPy's `array` function to create familiar structures like vectors and matrices. In both cases, these need to be 2d structures, not simply 1d arrays. For the idea of row and column vectors to make sense, we need information on both the number of rows and the number of columns (even if the number is only 1!). So to express the row and column vectors:\n",
    "$$\n",
    "a = \\begin{bmatrix} 1 & -2 & 4 \\end{bmatrix}, b = \\begin{bmatrix} 3 \\\\ 1 \\\\ -1 \\end{bmatrix},\n",
    "$$\n",
    "we use the following:"
   ]
  },
  {
   "cell_type": "code",
   "execution_count": 3,
   "metadata": {},
   "outputs": [
    {
     "name": "stdout",
     "output_type": "stream",
     "text": [
      "(1, 3)\n",
      "(3, 1)\n"
     ]
    }
   ],
   "source": [
    "# note the number and placement of the square brackets!\n",
    "a = np.array([[1, -2, 4]]) \n",
    "b = np.array([[3],[1],[-1]])\n",
    "\n",
    "print(np.shape(a))\n",
    "print(np.shape(b))"
   ]
  },
  {
   "cell_type": "markdown",
   "metadata": {},
   "source": [
    "We can now perform any of our usual mathematical operations on our vectors, such as multiplying by scalars, adding and subtracting vectors/matrices with the same dimensions. We can also multiply and divide, remembering that:\n",
    "$$\n",
    "\\begin{bmatrix} a_{00} & a_{01} \\\\ a_{10} & a_{11} \\end{bmatrix}\\begin{bmatrix} x_0 \\\\ x_1\\end{bmatrix}\n",
    "= \\begin{bmatrix} a_{00}x_0 + a_{01}x_1 \\\\ a_{10}x_0 + a_{11}x_1 \\end{bmatrix}\n",
    "$$ "
   ]
  },
  {
   "cell_type": "markdown",
   "metadata": {},
   "source": [
    "This last form is particularly helpful to us, as it is how we are going to express our systems of linear equations.  We can express any system of linear equations as a product of a matrix containing the coefficients of the variables of our equations, mulitplying a column vector of the variables themselves. Thus for the example pair of equations I used at the beginning, we can write:\n",
    "$$\n",
    "2x + 3y = 8\n",
    "$$\n",
    "$$\n",
    "-x + y = 1\n",
    "$$\n",
    "as\n",
    "$$\n",
    "\\begin{bmatrix}2 & 3 \\\\ -1 & 1\\end{bmatrix}\\begin{bmatrix}x \\\\ y\\end{bmatrix}\n",
    "= \\begin{bmatrix} 8 \\\\ 1 \\end{bmatrix}\n",
    "$$"
   ]
  },
  {
   "cell_type": "markdown",
   "metadata": {},
   "source": [
    "How do we actually solve these equations? What I really mean to ask is what is the *method* by which we solve them? The first step in computing is always to identify the algorithm you are going to use.\n",
    "\n",
    "One approach is called Gaussian Elimination. It involves using one equation to eliminate one unknown in the remaining equations. You can then repeat the processes until you finally end up with an equation with only one variable in it. You can then find the rest by a process of back substitution. Here's how we do it:\n",
    "\n",
    "#### Step 1:\n",
    "\n",
    "Select which equation we want to use to eliminate the first variable (I will choose to do this for $x$ first). We call this the pivot equation, and we typically choose the equation that has the largest coefficient for that variable (why?). Here we'll choose $2x+3y = 8$ as the pivot.\n",
    "\n",
    "#### Step 2:\n",
    "\n",
    "Divide the pivot equation by the value of coefficient of the variable we are going to eliminate. In this case, we divide by 2, giving $x + 1.5y = 4$.\n",
    "\n",
    "#### Step 3:\n",
    "\n",
    "Multiply our new equation by whatever the coefficient of $x$ is in the second equation, and subtract the result from the second equation. This gives us $2.5y = 5$.\n",
    "\n",
    "#### Step 4:\n",
    "\n",
    "Solve for y. This gives us $y = 2$\n",
    "\n",
    "#### Step 5:\n",
    "\n",
    "Now for the back substitution. We had $x + 1.5y = 4$, so use this with our value of $y$ to obtain $x$. We get $x = 1$."
   ]
  },
  {
   "cell_type": "markdown",
   "metadata": {},
   "source": [
    "## Exercise 1\n",
    "\n",
    "Now convert the above steps into a Python code to do the solution for you. Put the coefficients into a 2x2 2-d array, `A`, and the right-hand side values into a 1x2 2-d array `b`, i.e.:\n",
    "\n",
    "$$\n",
    "\\mathbf{A} = \\begin{bmatrix}2 & 3 \\\\ -1 & 1\\end{bmatrix}, \\ \\ \n",
    "\\mathbf{b} = \\begin{bmatrix} 8 \\\\ 1 \\end{bmatrix}\n",
    "$$\n",
    "\n",
    "It is important that you enter each coefficient as a `float` and not an `int` -- we are going to do operations that result in non-integer values, so our arrays need to be arrays of floats.\n",
    "\n",
    "We also need to create a 1x2 2-d array to put our solution in. We will call this array `x`.\n",
    "\n",
    "Essentially we will be solving the matrix equation:\n",
    "$$\n",
    "\\mathbf{A}\\mathbf{x} = \\mathbf{b}.\n",
    "$$\n",
    "\n",
    "First create the necessary arrays A and b. Also, create a 2x1 array of zeros, as we will need this to put the solution in."
   ]
  },
  {
   "cell_type": "code",
   "execution_count": 3,
   "metadata": {},
   "outputs": [
    {
     "data": {
      "text/plain": [
       "(2, 1)"
      ]
     },
     "execution_count": 3,
     "metadata": {},
     "output_type": "execute_result"
    }
   ],
   "source": [
    "A = np.array([[2.0, 3.0],[-1.0, 1.0]])\n",
    "b = np.array([[8.0],[1.0]])\n",
    "\n",
    "x = np.array([[0.0],[0.0]])"
   ]
  },
  {
   "cell_type": "markdown",
   "metadata": {},
   "source": [
    "Divide the first row of both the A and b arrays by whatever the value in the first row and column of the array `A`, i.e. the value `A[0][0]`. Be sure to check the result is what you expect it to be!"
   ]
  },
  {
   "cell_type": "code",
   "execution_count": 34,
   "metadata": {},
   "outputs": [],
   "source": [
    "# set the pivot\n",
    "pivot = A[0][0]\n",
    "\n",
    "# iterate on the first row for A\n",
    "A[0][:] = A[0][:]/pivot\n",
    "# iterate on the first row for b\n",
    "b[0] = b[0]/pivot"
   ]
  },
  {
   "cell_type": "markdown",
   "metadata": {},
   "source": [
    "Now take the second row in `A` and subtract `A[1][0]` multiplied by the first row. Do the same for `b`. Again, check the result is what you expect."
   ]
  },
  {
   "cell_type": "code",
   "execution_count": 35,
   "metadata": {},
   "outputs": [],
   "source": [
    "# set the coefficient\n",
    "coeff = A[1][0]\n",
    "\n",
    "# iterate on the second row for A\n",
    "A[1][:] = A[1][:] - coeff*A[0][:]\n",
    "\n",
    "# iterate on the second row for b\n",
    "b[1] = b[1] - coeff*b[0]"
   ]
  },
  {
   "cell_type": "markdown",
   "metadata": {},
   "source": [
    "The second row of `A` should now contain a zero in the first column, so we can divide `b[1]` by the remaining non-zero coefficient in `A` to get the value of `x[1]`:"
   ]
  },
  {
   "cell_type": "code",
   "execution_count": 37,
   "metadata": {},
   "outputs": [],
   "source": [
    "x[1] = b[1]/A[1][1]"
   ]
  },
  {
   "cell_type": "markdown",
   "metadata": {},
   "source": [
    "Now use the value of `x[1]` and the coefficients in the first row of `A` to find `x[0]`:"
   ]
  },
  {
   "cell_type": "code",
   "execution_count": 39,
   "metadata": {},
   "outputs": [],
   "source": [
    "x[0] = b[0] - A[0][1]*x[1]"
   ]
  },
  {
   "cell_type": "markdown",
   "metadata": {},
   "source": [
    "Check that `x` contains the correct solution:"
   ]
  },
  {
   "cell_type": "code",
   "execution_count": 40,
   "metadata": {},
   "outputs": [
    {
     "data": {
      "text/plain": [
       "array([[1.],\n",
       "       [2.]])"
      ]
     },
     "execution_count": 40,
     "metadata": {},
     "output_type": "execute_result"
    }
   ],
   "source": [
    "x"
   ]
  },
  {
   "cell_type": "markdown",
   "metadata": {},
   "source": [
    "You now have code that you can put into a function, so that if you supply it with the array of coefficients, `A`, and the right-hand sides of the equations, `b`, it will return the solution `x`."
   ]
  },
  {
   "cell_type": "code",
   "execution_count": 51,
   "metadata": {},
   "outputs": [],
   "source": [
    "def solve_2d(A,b):\n",
    "    # set empty solution array\n",
    "    x = np.array([[0.0],[0.0]])\n",
    "    \n",
    "    # Routine to solve 2 simultaneous equations with two unknowns\n",
    "    # set the pivot\n",
    "    pivot = A[0][0]\n",
    "\n",
    "    # iterate on the first row for A\n",
    "    A[0][:] = A[0][:]/pivot\n",
    "    # iterate on the first row for b\n",
    "    b[0] = b[0]/pivot\n",
    "    \n",
    "    # set the coefficient\n",
    "    coeff = A[1][0]\n",
    "\n",
    "    # iterate on the second row for A\n",
    "    A[1][:] = A[1][:] - coeff*A[0][:]\n",
    "\n",
    "    # iterate on the second row for b\n",
    "    b[1] = b[1] - coeff*b[0]\n",
    "    \n",
    "    # solve for the last component of x\n",
    "    x[1] = b[1]/A[1][1]\n",
    "    \n",
    "    # back substitute to get the next\n",
    "    x[0] = b[0] - A[0][1]*x[1]\n",
    "    \n",
    "    return x"
   ]
  },
  {
   "cell_type": "markdown",
   "metadata": {},
   "source": [
    "Use your function to solve the equations:\n",
    "\n",
    "$$\n",
    " 5x - 3y = 1\n",
    "$$\n",
    "$$\n",
    "2x + y = 7\n",
    "$$"
   ]
  },
  {
   "cell_type": "code",
   "execution_count": 50,
   "metadata": {},
   "outputs": [
    {
     "name": "stdout",
     "output_type": "stream",
     "text": [
      "[[ 1.  -0.6]\n",
      " [ 2.   1. ]]\n",
      "[[ 1.  -0.6]\n",
      " [ 0.   2.2]]\n"
     ]
    },
    {
     "data": {
      "text/plain": [
       "array([[2.],\n",
       "       [3.]])"
      ]
     },
     "execution_count": 50,
     "metadata": {},
     "output_type": "execute_result"
    }
   ],
   "source": [
    "C = np.array([[5.0, -3.0],[2.0, 1.0]])\n",
    "d = np.array([[1.0],[7.0]])\n",
    "\n",
    "solve_2d(C,d)"
   ]
  },
  {
   "cell_type": "markdown",
   "metadata": {},
   "source": [
    "#### Generalization\n",
    "\n",
    "This is all well and good, but solving for just two unknowns is trivial and we can probably do it quicker by hand than we can code it up. We really want a method for solving a system of n equations for n unknowns. In order to do this, we need to think about the _algorithm_ that lies behind the method. What are the steps we need to take in order to obtain our solution?\n",
    "\n",
    "What we did for just two equations was to eliminate a variable from one of the equations using a multipe of the other. For multiple equations, we do exactly the same thing though we will need to use a combination of all the other equations. Suppose our system of equations takes the form:\n",
    "$$\n",
    "\\begin{bmatrix} a_{00} & a_{01} & a_{02} & \\cdots & a_{0n} \\\\ a_{10} & a_{11} & a_{12} & \\cdots & a_{1n} \\\\ a_{20} & a_{21} & a_{22} & \\cdots & a_{2n} \\\\ \\vdots & \\vdots & \\vdots& \\ddots & \\vdots \\\\ a_{n0} & a_{n1} & a_{n2} & \\cdots & a_{nn} \\end{bmatrix}\\begin{bmatrix}x_0 \\\\ x_1 \\\\ x_2 \\\\ \\vdots \\\\ x_n\\end{bmatrix} = \\begin{bmatrix}b_0 \\\\ b_1 \\\\ b_2 \\\\ \\vdots \\\\ b_n\\end{bmatrix}.\n",
    "$$\n",
    "If we can manipulate each row of the equations so that we can get the matrix equation into the form:\n",
    "$$\n",
    "\\begin{bmatrix}\n",
    " 1 & a'_{01} & a'_{02} & \\cdots & a'_{0n} \\\\\n",
    " 0 & 1 & a'_{12} & \\cdots & a'_{1n} \\\\\n",
    " 0 & 0 & 1 & \\cdots & a'_{2n} \\\\\n",
    " \\vdots & \\vdots & \\vdots & \\ddots & \\vdots \\\\\n",
    " 0 & 0 & 0 & \\cdots & 1 \\\\\n",
    "\\end{bmatrix}\n",
    "\\begin{bmatrix}x_0 \\\\ x_1 \\\\ x_2 \\\\ \\vdots \\\\ x_n\\end{bmatrix} =\n",
    "\\begin{bmatrix}b'_0 \\\\ b'_1 \\\\ b'_2 \\\\ \\vdots \\\\ b'_n\\end{bmatrix}.\n",
    "$$\n",
    "then we can solve our problem. The last row gives us the value of $x_n$, and we can use back substitution to find the value of $x_{n-1}$ usinig the $n-1$th row, and so forth.\n",
    "\n",
    "Here are the steps we should take:"
   ]
  },
  {
   "cell_type": "markdown",
   "metadata": {},
   "source": [
    "##### Step 1\n",
    "Divide the first row of our set of equation by $a_{00}$. This gives:\n",
    "\n",
    "$$\n",
    "\\begin{bmatrix} 1 & a'_{01} & a'_{02} & \\cdots & a'_{0n} \\\\ a_{10} & a_{11} & a_{12} & \\cdots & a_{1n} \\\\ a_{20} & a_{21} & a_{22} & \\cdots & a_{2n} \\\\ \\vdots & \\vdots & \\vdots& \\ddots & \\vdots \\\\ a_{n0} & a_{n1} & a_{n2} & \\cdots & a_{nn} \\end{bmatrix}\n",
    "\\begin{bmatrix}x_0 \\\\ x_1 \\\\ x_2 \\\\ \\vdots \\\\ x_n\\end{bmatrix} = \\begin{bmatrix}b'_0 \\\\ b_1 \\\\ b_2 \\\\ \\vdots \\\\ b_n\\end{bmatrix}.\n",
    "$$"
   ]
  },
  {
   "cell_type": "markdown",
   "metadata": {},
   "source": [
    "##### Step 2\n",
    "For the remaining m rows, subtract $a_{m0}$ times the first row from each equation. This gets us to:\n",
    "\n",
    "$$\n",
    "\\begin{bmatrix} 1 & a'_{01} & a'_{02} & \\cdots & a'_{0n} \\\\ 0 & a'_{11} & a'_{12} & \\cdots & a'_{1n} \\\\ 0 & a'_{21} & a'_{22} & \\cdots & a'_{2n} \\\\ \\vdots & \\vdots & \\vdots& \\ddots & \\vdots \\\\ 0 & a'_{n1} & a'_{n2} & \\cdots & a'_{nn} \\end{bmatrix}\n",
    "\\begin{bmatrix}x_0 \\\\ x_1 \\\\ x_2 \\\\ \\vdots \\\\ x_n\\end{bmatrix} = \\begin{bmatrix}b'_0 \\\\ b'_1 \\\\ b'_2 \\\\ \\vdots \\\\ b'_n\\end{bmatrix}.\n",
    "$$"
   ]
  },
  {
   "cell_type": "markdown",
   "metadata": {},
   "source": [
    "##### Step 3\n",
    "\n",
    "Now divide the second row by $a'_{11}$, so that we have a $1$ in the second column of the second row:\n",
    "$$\n",
    "\\begin{bmatrix} 1 & a'_{01} & a'_{02} & \\cdots & a'_{0n} \\\\ 0 & 1 & a''_{12} & \\cdots & a''_{1n} \\\\ 0 & a'_{21} & a'_{22} & \\cdots & a'_{2n} \\\\ \\vdots & \\vdots & \\vdots& \\ddots & \\vdots \\\\ 0 & a'_{n1} & a'_{n2} & \\cdots & a'_{nn} \\end{bmatrix}\n",
    "\\begin{bmatrix}x_0 \\\\ x_1 \\\\ x_2 \\\\ \\vdots \\\\ x_n\\end{bmatrix} = \\begin{bmatrix}b'_0 \\\\ b''_1 \\\\ b'_2 \\\\ \\vdots \\\\ b'_n\\end{bmatrix}.\n",
    "$$"
   ]
  },
  {
   "cell_type": "markdown",
   "metadata": {},
   "source": [
    "##### Step 4\n",
    "\n",
    "Just as we did in step 2, we can use our new second row to elimate all the $a_{m1}$ coefficients in the remaining rows:\n",
    "$$\n",
    "\\begin{bmatrix} 1 & a'_{01} & a'_{02} & \\cdots & a'_{0n} \\\\ 0 & 1 & a''_{12} & \\cdots & a''_{1n} \\\\ 0 & 0 & a''_{22} & \\cdots & a''_{2n} \\\\ \\vdots & \\vdots & \\vdots& \\ddots & \\vdots \\\\ 0 & 0 & a''_{n2} & \\cdots & a''_{nn} \\end{bmatrix}\n",
    "\\begin{bmatrix}x_0 \\\\ x_1 \\\\ x_2 \\\\ \\vdots \\\\ x_n\\end{bmatrix} = \\begin{bmatrix}b'_0 \\\\ b''_1 \\\\ b''_2 \\\\ \\vdots \\\\ b''_n\\end{bmatrix}.\n",
    "$$\n"
   ]
  },
  {
   "cell_type": "markdown",
   "metadata": {},
   "source": [
    "##### Step 5\n",
    "\n",
    "Use the same idea to reduce each row in turn until we get we have a 1 in the final column of the last row:\n",
    "$$\n",
    "\\begin{bmatrix}\n",
    " 1 & a'_{01} & a'_{02} & \\cdots & a'_{0n} \\\\\n",
    " 0 & 1 & a'_{12} & \\cdots & a'_{1n} \\\\\n",
    " 0 & 0 & 1 & \\cdots & a'_{2n} \\\\\n",
    " \\vdots & \\vdots & \\vdots & \\ddots & \\vdots \\\\\n",
    " 0 & 0 & 0 & \\cdots & 1 \\\\\n",
    "\\end{bmatrix}\n",
    "\\begin{bmatrix}x_0 \\\\ x_1 \\\\ x_2 \\\\ \\vdots \\\\ x_n\\end{bmatrix} =\n",
    "\\begin{bmatrix}b'_0 \\\\ b'_1 \\\\ b'_2 \\\\ \\vdots \\\\ b'_n\\end{bmatrix}.\n",
    "$$\n",
    "This gives us the value of $x_n$."
   ]
  },
  {
   "cell_type": "markdown",
   "metadata": {},
   "source": [
    "##### Step 6\n",
    "\n",
    "Begin the process of back substitution. Insert the value of $x_n$ into the $n-1$th row, and solve for $x_{n-1}$. Repeat for each remaining row."
   ]
  },
  {
   "cell_type": "markdown",
   "metadata": {},
   "source": [
    "### Exercise 2\n",
    "\n",
    "Now try coding up the above algorithm. Assume that you have the coefficients $a$ in a single 2d $n$x$n$ array `A`, and the $b$ values in a single 1x$n$ array `b`. You might find it easiest to work with a specific case in mind so that you can check your steps are correct as you go. I have started you off with an example of solving 3 specific equations:\n",
    "$$\n",
    "x + y + z = 2 \\\\\n",
    "3x -2y - 2z = 1 \\\\\n",
    "2x +3y + z = -1\n",
    "$$\n",
    "\n",
    "Make sure your algorithm can deal with arbitrary n!"
   ]
  },
  {
   "cell_type": "code",
   "execution_count": 108,
   "metadata": {},
   "outputs": [],
   "source": [
    "# set the number of equations to solve\n",
    "n = 3\n",
    "\n",
    "# create an empty solution array\n",
    "x = np.zeros(shape=(n))\n",
    "\n",
    "# Input the array of A values\n",
    "A = np.array([[1.0, 1.0, 1.0], [3.0, -2.0, -2.0], [2.0, 3.0, 1.0]])\n",
    "\n",
    "# Input the array of b values\n",
    "b = np.array([2.0, 1.0, -1.0])"
   ]
  },
  {
   "cell_type": "code",
   "execution_count": 109,
   "metadata": {},
   "outputs": [],
   "source": [
    "# Perform the elimination\n",
    "\n",
    "# go through each row in turn\n",
    "for i in range(0,n):\n",
    "    # select the pivot\n",
    "    pivot = A[i, i]\n",
    "    for j in range(i,n):\n",
    "        # divide through each column by the pivot\n",
    "        A[i, j] = A[i,j]/pivot\n",
    "    # Also divide the relevant b value by the pivot\n",
    "    b[i] = b[i]/pivot\n",
    "\n",
    "    # subtract a multiple of the ith row from each remaining row\n",
    "    for k in range(i+1,n):\n",
    "        multiple = A[k,i] \n",
    "        for j in range(i,n):\n",
    "            # A[i,j] is the coefficent of the jth column in the ith row\n",
    "            A[k,j] = A[k,j]-multiple*A[i,j]\n",
    "        b[k] = b[k]-multiple*b[i]"
   ]
  },
  {
   "cell_type": "code",
   "execution_count": 110,
   "metadata": {},
   "outputs": [
    {
     "name": "stdout",
     "output_type": "stream",
     "text": [
      "[ 1. -2.  3.]\n"
     ]
    }
   ],
   "source": [
    "# perform the back substitution\n",
    "\n",
    "# the last value of b is the nth x-value\n",
    "for k in range(0,n):\n",
    "    # use kk to count backwards from n to 0\n",
    "    kk = n - (k+1)\n",
    "    # kk = n is the last value\n",
    "    if kk == n:\n",
    "        x[kk] = b[kk]\n",
    "    else:\n",
    "        sum = 0.0\n",
    "        for j in range(kk+1,n):\n",
    "            sum += A[kk,j]*x[j]\n",
    "        x[kk] = b[kk] - sum\n",
    "        \n",
    "print(x)"
   ]
  },
  {
   "cell_type": "markdown",
   "metadata": {},
   "source": [
    "Now invent a simple test case involving 5 equations, and test your algorithm on it."
   ]
  },
  {
   "cell_type": "code",
   "execution_count": null,
   "metadata": {},
   "outputs": [],
   "source": []
  },
  {
   "cell_type": "markdown",
   "metadata": {},
   "source": [
    "The algorithm is pretty basic, and not without its flaws. Can you think of conditions where it might break down? What might you decide to include to prevent this (in theory! Don't try and code it)? Are there any other improvements that could be made?"
   ]
  },
  {
   "cell_type": "markdown",
   "metadata": {},
   "source": [
    "Our algorithm doesn't check if the pivot is zero before proceeding. If it is, then we can always switch the columns or rows around to choose a non-zero pivot. We will need to make sure we remember any such switches when we do the back substitution.\n",
    "\n",
    "Another trick is to always choose the largest pivot possible -- dividing by small numbers can cause all sorts of problems. Again, we can shift the order of the columns to always have the largest pivot for a given row."
   ]
  },
  {
   "cell_type": "markdown",
   "metadata": {},
   "source": [
    "More details on the methods we have discussed here can be found in chapter 2 of [Numerical Recipes](http://numerical.recipes/book/book.html), together with some more advanced methods for solving linear equations."
   ]
  },
  {
   "cell_type": "markdown",
   "metadata": {},
   "source": [
    "## Scientific Python for Linear Algebra\n",
    "\n",
    "One of the great things about working with python is the wealth of modules that are available for it. If you want to perfom any moderately-common task, there is a good chance that there is an already written python module that will do exactly what you want. Many of the tools we need for numerical methods are contained within the handy Scientific Python or SciPy module. You can find the documentation for the module [here](https://scipy.github.io/devdocs/tutorial/index.html). There are a range of functions and routines included in SciPy: for now we only concern ourselves with the linear algebra part of the package, `linalg`.\n",
    "\n",
    "We import the package in the usual way:"
   ]
  },
  {
   "cell_type": "code",
   "execution_count": 98,
   "metadata": {},
   "outputs": [],
   "source": [
    "from scipy import linalg"
   ]
  },
  {
   "cell_type": "markdown",
   "metadata": {},
   "source": [
    "`linalg` contains many routines for dealing with matrices and operations involving them. It also contains the handy routine `solve` which can be used to solve systems of linear equations, just like we did above. If we have the coefficients of our variables in an nxn 2d-array, `A`, and the right-hand side of our equations in a nx1 array, we can invoke the solver as follows:"
   ]
  },
  {
   "cell_type": "code",
   "execution_count": 99,
   "metadata": {},
   "outputs": [
    {
     "data": {
      "text/plain": [
       "array([[2.],\n",
       "       [3.]])"
      ]
     },
     "execution_count": 99,
     "metadata": {},
     "output_type": "execute_result"
    }
   ],
   "source": [
    "# To solve the equations:\n",
    "# 5x - 3y = 1, 2x + y =7\n",
    "\n",
    "A = np.array([[5.0, -3.0],[2.0, 1.0]])\n",
    "b = np.array([[1.0],[7.0]])\n",
    "\n",
    "linalg.solve(A,b)"
   ]
  },
  {
   "cell_type": "markdown",
   "metadata": {},
   "source": [
    "### Exercise 3\n",
    "\n",
    "Try to solve the following equations using your own solver from exercise 2:\n",
    "$$\n",
    "x + 2y - z = 6 \\\\\n",
    "2x + 4y -3z = 11 \\\\\n",
    "-2x + y + 5z = 1\n",
    "$$\n",
    "You should find that you get a divide by zero error, because subtracting twice the first row from the second results in a zero for the pivot.\n",
    "\n",
    "Now try solving the same set of equations with `linalg.solve`."
   ]
  },
  {
   "cell_type": "code",
   "execution_count": 102,
   "metadata": {},
   "outputs": [
    {
     "data": {
      "text/plain": [
       "array([[3.],\n",
       "       [2.],\n",
       "       [1.]])"
      ]
     },
     "execution_count": 102,
     "metadata": {},
     "output_type": "execute_result"
    }
   ],
   "source": [
    "A = np.array([[1.0, 2.0, -1],[2.0, 4.0, -3.0],[-2.0, 1.0, 5.0]])\n",
    "b = np.array([[6.0],[11.0],[1.0]])\n",
    "\n",
    "linalg.solve(A,b)"
   ]
  },
  {
   "cell_type": "markdown",
   "metadata": {},
   "source": [
    "This returns a result without errors -- `linalg.solve` is a much better solver than the one we wrote, and can handle some of the exceptions we discussed above."
   ]
  },
  {
   "cell_type": "code",
   "execution_count": null,
   "metadata": {},
   "outputs": [],
   "source": []
  }
 ],
 "metadata": {
  "kernelspec": {
   "display_name": "Python 3",
   "language": "python",
   "name": "python3"
  },
  "language_info": {
   "codemirror_mode": {
    "name": "ipython",
    "version": 3
   },
   "file_extension": ".py",
   "mimetype": "text/x-python",
   "name": "python",
   "nbconvert_exporter": "python",
   "pygments_lexer": "ipython3",
   "version": "3.7.1"
  }
 },
 "nbformat": 4,
 "nbformat_minor": 2
}
