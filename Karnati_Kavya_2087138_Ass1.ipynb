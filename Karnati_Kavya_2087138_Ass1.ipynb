{
 "cells": [
  {
   "cell_type": "code",
   "execution_count": 98,
   "metadata": {},
   "outputs": [],
   "source": [
    "#imports and set up \n",
    "import numpy as np\n",
    "from sklearn.linear_model import LinearRegression\n",
    "import pandas as pd\n",
    "import seaborn as sns\n",
    "import matplotlib.pyplot as plt\n",
    "%matplotlib inline"
   ]
  },
  {
   "cell_type": "code",
   "execution_count": 99,
   "metadata": {},
   "outputs": [],
   "source": [
    "#load dataset into pandas df \n",
    "filename = \"Ex1_Arrh1(2).csv\"\n",
    "df = pd.read_csv(filename)\n",
    "\n",
    "#add additional columns \n",
    "df[\"1/T [K-1]\"] = 1/df[\"T [K]\"]\n",
    "df[\"ln k\"] = np.log(df[\"k [s-1]\"])"
   ]
  },
  {
   "cell_type": "code",
   "execution_count": 100,
   "metadata": {},
   "outputs": [
    {
     "data": {
      "text/plain": [
       "<seaborn.axisgrid.FacetGrid at 0x12a751ee0>"
      ]
     },
     "execution_count": 100,
     "metadata": {},
     "output_type": "execute_result"
    },
    {
     "data": {
      "image/png": "[encoded data removed]",
      "text/plain": [
       "<Figure size 360x360 with 1 Axes>"
      ]
     },
     "metadata": {
      "needs_background": "light"
     },
     "output_type": "display_data"
    }
   ],
   "source": [
    "#plot data to preview \n",
    "sns.relplot(data=df, x=\"1/T [K-1]\",y=\"ln k\")"
   ]
  },
  {
   "cell_type": "markdown",
   "metadata": {},
   "source": [
    "##### Linear regression analysis with dataset A (950 and 1653 K)"
   ]
  },
  {
   "cell_type": "code",
   "execution_count": 101,
   "metadata": {},
   "outputs": [
    {
     "data": {
      "text/html": [
       "<div>\n",
       "<style scoped>\n",
       "    .dataframe tbody tr th:only-of-type {\n",
       "        vertical-align: middle;\n",
       "    }\n",
       "\n",
       "    .dataframe tbody tr th {\n",
       "        vertical-align: top;\n",
       "    }\n",
       "\n",
       "    .dataframe thead th {\n",
       "        text-align: right;\n",
       "    }\n",
       "</style>\n",
       "<table border=\"1\" class=\"dataframe\">\n",
       "  <thead>\n",
       "    <tr style=\"text-align: right;\">\n",
       "      <th></th>\n",
       "      <th>T [K]</th>\n",
       "      <th>k [s-1]</th>\n",
       "      <th>1/T [K-1]</th>\n",
       "      <th>ln k</th>\n",
       "    </tr>\n",
       "  </thead>\n",
       "  <tbody>\n",
       "    <tr>\n",
       "      <th>0</th>\n",
       "      <td>950</td>\n",
       "      <td>4.43</td>\n",
       "      <td>0.001053</td>\n",
       "      <td>1.488400</td>\n",
       "    </tr>\n",
       "    <tr>\n",
       "      <th>1</th>\n",
       "      <td>960</td>\n",
       "      <td>8.07</td>\n",
       "      <td>0.001042</td>\n",
       "      <td>2.088153</td>\n",
       "    </tr>\n",
       "    <tr>\n",
       "      <th>2</th>\n",
       "      <td>986</td>\n",
       "      <td>19.60</td>\n",
       "      <td>0.001014</td>\n",
       "      <td>2.975530</td>\n",
       "    </tr>\n",
       "    <tr>\n",
       "      <th>3</th>\n",
       "      <td>1003</td>\n",
       "      <td>29.80</td>\n",
       "      <td>0.000997</td>\n",
       "      <td>3.394508</td>\n",
       "    </tr>\n",
       "    <tr>\n",
       "      <th>4</th>\n",
       "      <td>1010</td>\n",
       "      <td>35.90</td>\n",
       "      <td>0.000990</td>\n",
       "      <td>3.580737</td>\n",
       "    </tr>\n",
       "  </tbody>\n",
       "</table>\n",
       "</div>"
      ],
      "text/plain": [
       "   T [K]  k [s-1]  1/T [K-1]      ln k\n",
       "0    950     4.43   0.001053  1.488400\n",
       "1    960     8.07   0.001042  2.088153\n",
       "2    986    19.60   0.001014  2.975530\n",
       "3   1003    29.80   0.000997  3.394508\n",
       "4   1010    35.90   0.000990  3.580737"
      ]
     },
     "execution_count": 101,
     "metadata": {},
     "output_type": "execute_result"
    }
   ],
   "source": [
    "df.head()"
   ]
  },
  {
   "cell_type": "code",
   "execution_count": 102,
   "metadata": {},
   "outputs": [],
   "source": [
    "#import model from scikitlearn\n",
    "from sklearn import linear_model\n",
    "\n",
    "# create an instance of the model\n",
    "model = linear_model.LinearRegression()"
   ]
  },
  {
   "cell_type": "code",
   "execution_count": 103,
   "metadata": {},
   "outputs": [],
   "source": [
    "from sklearn import linear_model\n",
    "model = linear_model.LinearRegression()\n",
    "\n",
    "#set X and Y variables\n",
    "X = df[[\"1/T [K-1]\"]]\n",
    "Y = df[\"ln k\"]\n",
    "\n",
    "#create test train split to conduct the regression analysis\n",
    "from sklearn.model_selection import train_test_split\n",
    "x_train, x_test, y_train, y_test = train_test_split(X,Y, test_size=0.3, random_state=42)\n",
    "\n",
    "model.fit(x_train,y_train)\n",
    "\n",
    "pred = model.predict(x_test)"
   ]
  },
  {
   "cell_type": "code",
   "execution_count": 104,
   "metadata": {},
   "outputs": [
    {
     "name": "stdout",
     "output_type": "stream",
     "text": [
      "The R2 score is: 0.9556580158004967\n",
      "The RMSE score is: 0.5345878494759038\n",
      "The intercept is: 21.57495321970017\n",
      "The gradient is: [-17867.9948476]\n",
      "Therefore, the actiation energy (kJ/mol) is [148.55450916]\n"
     ]
    }
   ],
   "source": [
    "#retrieve statistics\n",
    "from sklearn.metrics import mean_squared_error, r2_score\n",
    "print(f\"The R2 score is: {r2_score(y_test,pred)}\")\n",
    "print(f\"The RMSE score is: {mean_squared_error(y_test,pred, squared=False)}\")\n",
    "print (f\"The intercept is: {model.intercept_}\")\n",
    "print (f\"The gradient is: {model.coef_}\")\n",
    "print (f\"Therefore, the actiation energy (kJ/mol) is {model.coef_*-8.314/1000}\")"
   ]
  },
  {
   "cell_type": "code",
   "execution_count": 105,
   "metadata": {},
   "outputs": [
    {
     "name": "stderr",
     "output_type": "stream",
     "text": [
      "/opt/anaconda3/lib/python3.8/site-packages/scipy/stats/stats.py:1603: UserWarning: kurtosistest only valid for n>=20 ... continuing anyway, n=10\n",
      "  warnings.warn(\"kurtosistest only valid for n>=20 ... continuing \"\n"
     ]
    },
    {
     "data": {
      "text/html": [
       "<table class=\"simpletable\">\n",
       "<caption>OLS Regression Results</caption>\n",
       "<tr>\n",
       "  <th>Dep. Variable:</th>            <td>y</td>        <th>  R-squared (uncentered):</th>      <td>   0.757</td>\n",
       "</tr>\n",
       "<tr>\n",
       "  <th>Model:</th>                   <td>OLS</td>       <th>  Adj. R-squared (uncentered):</th> <td>   0.730</td>\n",
       "</tr>\n",
       "<tr>\n",
       "  <th>Method:</th>             <td>Least Squares</td>  <th>  F-statistic:       </th>          <td>   28.07</td>\n",
       "</tr>\n",
       "<tr>\n",
       "  <th>Date:</th>             <td>Wed, 16 Nov 2022</td> <th>  Prob (F-statistic):</th>          <td>0.000495</td>\n",
       "</tr>\n",
       "<tr>\n",
       "  <th>Time:</th>                 <td>08:45:03</td>     <th>  Log-Likelihood:    </th>          <td> -26.872</td>\n",
       "</tr>\n",
       "<tr>\n",
       "  <th>No. Observations:</th>      <td>    10</td>      <th>  AIC:               </th>          <td>   55.74</td>\n",
       "</tr>\n",
       "<tr>\n",
       "  <th>Df Residuals:</th>          <td>     9</td>      <th>  BIC:               </th>          <td>   56.05</td>\n",
       "</tr>\n",
       "<tr>\n",
       "  <th>Df Model:</th>              <td>     1</td>      <th>                     </th>              <td> </td>   \n",
       "</tr>\n",
       "<tr>\n",
       "  <th>Covariance Type:</th>      <td>nonrobust</td>    <th>                     </th>              <td> </td>   \n",
       "</tr>\n",
       "</table>\n",
       "<table class=\"simpletable\">\n",
       "<tr>\n",
       "      <td></td>         <th>coef</th>     <th>std err</th>      <th>t</th>      <th>P>|t|</th>  <th>[0.025</th>    <th>0.975]</th>  \n",
       "</tr>\n",
       "<tr>\n",
       "  <th>1/T [K-1]</th> <td> 7477.6598</td> <td> 1411.322</td> <td>    5.298</td> <td> 0.000</td> <td> 4285.027</td> <td> 1.07e+04</td>\n",
       "</tr>\n",
       "</table>\n",
       "<table class=\"simpletable\">\n",
       "<tr>\n",
       "  <th>Omnibus:</th>       <td> 2.003</td> <th>  Durbin-Watson:     </th> <td>   1.294</td>\n",
       "</tr>\n",
       "<tr>\n",
       "  <th>Prob(Omnibus):</th> <td> 0.367</td> <th>  Jarque-Bera (JB):  </th> <td>   0.830</td>\n",
       "</tr>\n",
       "<tr>\n",
       "  <th>Skew:</th>          <td>-0.081</td> <th>  Prob(JB):          </th> <td>   0.660</td>\n",
       "</tr>\n",
       "<tr>\n",
       "  <th>Kurtosis:</th>      <td> 1.598</td> <th>  Cond. No.          </th> <td>    1.00</td>\n",
       "</tr>\n",
       "</table><br/><br/>Notes:<br/>[1] R² is computed without centering (uncentered) since the model does not contain a constant.<br/>[2] Standard Errors assume that the covariance matrix of the errors is correctly specified."
      ],
      "text/plain": [
       "<class 'statsmodels.iolib.summary.Summary'>\n",
       "\"\"\"\n",
       "                                 OLS Regression Results                                \n",
       "=======================================================================================\n",
       "Dep. Variable:                      y   R-squared (uncentered):                   0.757\n",
       "Model:                            OLS   Adj. R-squared (uncentered):              0.730\n",
       "Method:                 Least Squares   F-statistic:                              28.07\n",
       "Date:                Wed, 16 Nov 2022   Prob (F-statistic):                    0.000495\n",
       "Time:                        08:45:03   Log-Likelihood:                         -26.872\n",
       "No. Observations:                  10   AIC:                                      55.74\n",
       "Df Residuals:                       9   BIC:                                      56.05\n",
       "Df Model:                           1                                                  \n",
       "Covariance Type:            nonrobust                                                  \n",
       "==============================================================================\n",
       "                 coef    std err          t      P>|t|      [0.025      0.975]\n",
       "------------------------------------------------------------------------------\n",
       "1/T [K-1]   7477.6598   1411.322      5.298      0.000    4285.027    1.07e+04\n",
       "==============================================================================\n",
       "Omnibus:                        2.003   Durbin-Watson:                   1.294\n",
       "Prob(Omnibus):                  0.367   Jarque-Bera (JB):                0.830\n",
       "Skew:                          -0.081   Prob(JB):                        0.660\n",
       "Kurtosis:                       1.598   Cond. No.                         1.00\n",
       "==============================================================================\n",
       "\n",
       "Notes:\n",
       "[1] R² is computed without centering (uncentered) since the model does not contain a constant.\n",
       "[2] Standard Errors assume that the covariance matrix of the errors is correctly specified.\n",
       "\"\"\""
      ]
     },
     "execution_count": 105,
     "metadata": {},
     "output_type": "execute_result"
    }
   ],
   "source": [
    "#standard error attempt\n",
    "\n",
    "import statsmodels.api as sm\n",
    "ols = sm.OLS(pred, x_test)\n",
    "ols_result = ols.fit()\n",
    "ols_result.summary()"
   ]
  },
  {
   "cell_type": "code",
   "execution_count": 130,
   "metadata": {},
   "outputs": [
    {
     "data": {
      "text/plain": [
       "Text(0.5, 1.0, 'Residuals for Dataset A')"
      ]
     },
     "execution_count": 130,
     "metadata": {},
     "output_type": "execute_result"
    },
    {
     "data": {
      "image/png": "[encoded data removed]",
      "text/plain": [
       "<Figure size 432x288 with 1 Axes>"
      ]
     },
     "metadata": {
      "needs_background": "light"
     },
     "output_type": "display_data"
    }
   ],
   "source": [
    "#create graphs to represent model fit\n",
    "\n",
    "#residual plot \n",
    "fig, ax  = plt.subplots()\n",
    "\n",
    "# Create a plot of residuals\n",
    "ax.plot(x_test, y_test - pred,'.')\n",
    "\n",
    "# Add a horizontal line at zero to guide the eye\n",
    "ax.axhline(0, color='k', linestyle='dashed')\n",
    "\n",
    "# Add axis labels\n",
    "ax.set_xlabel(\"1/T [K-1]\")\n",
    "ax.set_ylabel(\"ln k\")\n",
    "ax.set_title(\"Residuals for Dataset A\")"
   ]
  },
  {
   "cell_type": "code",
   "execution_count": 120,
   "metadata": {},
   "outputs": [
    {
     "data": {
      "text/plain": [
       "Text(0.5, 1.0, 'Actual Versus Predicted Results')"
      ]
     },
     "execution_count": 120,
     "metadata": {},
     "output_type": "execute_result"
    },
    {
     "data": {
      "image/png": "[encoded data removed]",
      "text/plain": [
       "<Figure size 576x360 with 1 Axes>"
      ]
     },
     "metadata": {
      "needs_background": "light"
     },
     "output_type": "display_data"
    }
   ],
   "source": [
    "#actual versys predicted graph\n",
    "\n",
    "fig, ax = plt.subplots(figsize=(8,5))\n",
    "ax.plot(df[\"1/T [K-1]\"], df[\"ln k\"],'.')\n",
    "ax.plot(x_test, pred)\n",
    "ax.legend(['Actual', 'Predicted Trend'])\n",
    "\n",
    "# Add axis labels\n",
    "ax.set_xlabel(\"1/T [K-1]\")\n",
    "ax.set_ylabel(\"ln k\")\n",
    "ax.set_title( \"Actual Versus Predicted Results\")\n"
   ]
  },
  {
   "cell_type": "code",
   "execution_count": null,
   "metadata": {},
   "outputs": [],
   "source": []
  },
  {
   "cell_type": "markdown",
   "metadata": {},
   "source": [
    "##### Linear regression analysis with dataset B (950 and 1100 K)"
   ]
  },
  {
   "cell_type": "code",
   "execution_count": 85,
   "metadata": {},
   "outputs": [
    {
     "data": {
      "text/html": [
       "<div>\n",
       "<style scoped>\n",
       "    .dataframe tbody tr th:only-of-type {\n",
       "        vertical-align: middle;\n",
       "    }\n",
       "\n",
       "    .dataframe tbody tr th {\n",
       "        vertical-align: top;\n",
       "    }\n",
       "\n",
       "    .dataframe thead th {\n",
       "        text-align: right;\n",
       "    }\n",
       "</style>\n",
       "<table border=\"1\" class=\"dataframe\">\n",
       "  <thead>\n",
       "    <tr style=\"text-align: right;\">\n",
       "      <th></th>\n",
       "      <th>T [K]</th>\n",
       "      <th>k [s-1]</th>\n",
       "      <th>1/T [K-1]</th>\n",
       "      <th>ln k</th>\n",
       "    </tr>\n",
       "  </thead>\n",
       "  <tbody>\n",
       "    <tr>\n",
       "      <th>0</th>\n",
       "      <td>950</td>\n",
       "      <td>4.43</td>\n",
       "      <td>0.001053</td>\n",
       "      <td>1.488400</td>\n",
       "    </tr>\n",
       "    <tr>\n",
       "      <th>1</th>\n",
       "      <td>960</td>\n",
       "      <td>8.07</td>\n",
       "      <td>0.001042</td>\n",
       "      <td>2.088153</td>\n",
       "    </tr>\n",
       "    <tr>\n",
       "      <th>2</th>\n",
       "      <td>986</td>\n",
       "      <td>19.60</td>\n",
       "      <td>0.001014</td>\n",
       "      <td>2.975530</td>\n",
       "    </tr>\n",
       "    <tr>\n",
       "      <th>3</th>\n",
       "      <td>1003</td>\n",
       "      <td>29.80</td>\n",
       "      <td>0.000997</td>\n",
       "      <td>3.394508</td>\n",
       "    </tr>\n",
       "    <tr>\n",
       "      <th>4</th>\n",
       "      <td>1010</td>\n",
       "      <td>35.90</td>\n",
       "      <td>0.000990</td>\n",
       "      <td>3.580737</td>\n",
       "    </tr>\n",
       "    <tr>\n",
       "      <th>5</th>\n",
       "      <td>1012</td>\n",
       "      <td>29.70</td>\n",
       "      <td>0.000988</td>\n",
       "      <td>3.391147</td>\n",
       "    </tr>\n",
       "    <tr>\n",
       "      <th>6</th>\n",
       "      <td>1019</td>\n",
       "      <td>56.40</td>\n",
       "      <td>0.000981</td>\n",
       "      <td>4.032469</td>\n",
       "    </tr>\n",
       "    <tr>\n",
       "      <th>7</th>\n",
       "      <td>1024</td>\n",
       "      <td>59.50</td>\n",
       "      <td>0.000977</td>\n",
       "      <td>4.085976</td>\n",
       "    </tr>\n",
       "    <tr>\n",
       "      <th>8</th>\n",
       "      <td>1028</td>\n",
       "      <td>87.10</td>\n",
       "      <td>0.000973</td>\n",
       "      <td>4.467057</td>\n",
       "    </tr>\n",
       "    <tr>\n",
       "      <th>9</th>\n",
       "      <td>1052</td>\n",
       "      <td>135.00</td>\n",
       "      <td>0.000951</td>\n",
       "      <td>4.905275</td>\n",
       "    </tr>\n",
       "    <tr>\n",
       "      <th>10</th>\n",
       "      <td>1062</td>\n",
       "      <td>114.00</td>\n",
       "      <td>0.000942</td>\n",
       "      <td>4.736198</td>\n",
       "    </tr>\n",
       "    <tr>\n",
       "      <th>11</th>\n",
       "      <td>1068</td>\n",
       "      <td>174.00</td>\n",
       "      <td>0.000936</td>\n",
       "      <td>5.159055</td>\n",
       "    </tr>\n",
       "    <tr>\n",
       "      <th>12</th>\n",
       "      <td>1072</td>\n",
       "      <td>189.00</td>\n",
       "      <td>0.000933</td>\n",
       "      <td>5.241747</td>\n",
       "    </tr>\n",
       "    <tr>\n",
       "      <th>13</th>\n",
       "      <td>1077</td>\n",
       "      <td>197.00</td>\n",
       "      <td>0.000929</td>\n",
       "      <td>5.283204</td>\n",
       "    </tr>\n",
       "    <tr>\n",
       "      <th>14</th>\n",
       "      <td>1096</td>\n",
       "      <td>873.00</td>\n",
       "      <td>0.000912</td>\n",
       "      <td>6.771936</td>\n",
       "    </tr>\n",
       "  </tbody>\n",
       "</table>\n",
       "</div>"
      ],
      "text/plain": [
       "    T [K]  k [s-1]  1/T [K-1]      ln k\n",
       "0     950     4.43   0.001053  1.488400\n",
       "1     960     8.07   0.001042  2.088153\n",
       "2     986    19.60   0.001014  2.975530\n",
       "3    1003    29.80   0.000997  3.394508\n",
       "4    1010    35.90   0.000990  3.580737\n",
       "5    1012    29.70   0.000988  3.391147\n",
       "6    1019    56.40   0.000981  4.032469\n",
       "7    1024    59.50   0.000977  4.085976\n",
       "8    1028    87.10   0.000973  4.467057\n",
       "9    1052   135.00   0.000951  4.905275\n",
       "10   1062   114.00   0.000942  4.736198\n",
       "11   1068   174.00   0.000936  5.159055\n",
       "12   1072   189.00   0.000933  5.241747\n",
       "13   1077   197.00   0.000929  5.283204\n",
       "14   1096   873.00   0.000912  6.771936"
      ]
     },
     "execution_count": 85,
     "metadata": {},
     "output_type": "execute_result"
    }
   ],
   "source": [
    "#part 2 - analysis only with data between 950 and 1100 K \n",
    "\n",
    "#drop values \n",
    "df2 = df[df[\"T [K]\"]< 1100]\n",
    "df2"
   ]
  },
  {
   "cell_type": "code",
   "execution_count": 90,
   "metadata": {},
   "outputs": [],
   "source": [
    "#conduct linear regression model with new data \n",
    "\n",
    "model2 = linear_model.LinearRegression()\n",
    "X2 = df2[[\"1/T [K-1]\"]]\n",
    "Y2 = df2[\"ln k\"]\n",
    "\n",
    "x_train2, x_test2, y_train2, y_test2 = train_test_split(X2,Y2, test_size=0.3, random_state=42)\n",
    "\n",
    "model2.fit(x_train2,y_train2)\n",
    "pred2 = model2.predict(x_test2)"
   ]
  },
  {
   "cell_type": "code",
   "execution_count": 91,
   "metadata": {},
   "outputs": [
    {
     "name": "stdout",
     "output_type": "stream",
     "text": [
      "The R2 score is: 0.9631739141428445\n",
      "The RMSE score is: 0.27780074311296526\n",
      "The intercept is: 35.84513220451972\n",
      "The gradient is: [-32485.67770613]\n",
      "Therefore, the actiation energy (kJ/mol) is [270.08592445]\n"
     ]
    }
   ],
   "source": [
    "#retrieve statistics\n",
    "from sklearn.metrics import mean_squared_error, r2_score\n",
    "print(f\"The R2 score is: {r2_score(y_test2,pred2)}\")\n",
    "print(f\"The RMSE score is: {mean_squared_error(y_test2,pred2, squared=False)}\")\n",
    "print (f\"The intercept is: {model2.intercept_}\")\n",
    "print (f\"The gradient is: {model2.coef_}\")\n",
    "print (f\"Therefore, the actiation energy (kJ/mol) is {model2.coef_*-8.314/1000}\")"
   ]
  },
  {
   "cell_type": "code",
   "execution_count": 129,
   "metadata": {},
   "outputs": [
    {
     "data": {
      "text/plain": [
       "Text(0.5, 1.0, 'Residuals for Dataset B')"
      ]
     },
     "execution_count": 129,
     "metadata": {},
     "output_type": "execute_result"
    },
    {
     "data": {
      "image/png": "[encoded data removed]",
      "text/plain": [
       "<Figure size 432x288 with 1 Axes>"
      ]
     },
     "metadata": {
      "needs_background": "light"
     },
     "output_type": "display_data"
    }
   ],
   "source": [
    "#residual plot \n",
    "fig, ax  = plt.subplots()\n",
    "\n",
    "# Create a plot of residuals\n",
    "ax.plot(x_test2, y_test2 - pred2,'.')\n",
    "\n",
    "# Add a horizontal line at zero to guide the eye\n",
    "ax.axhline(0, color='k', linestyle='dashed')\n",
    "\n",
    "# Add axis labels\n",
    "ax.set_xlabel(\"1/T [K-1]\")\n",
    "ax.set_ylabel(\"ln k\")\n",
    "ax.set_title(\"Residuals for Dataset B\")"
   ]
  },
  {
   "cell_type": "markdown",
   "metadata": {},
   "source": [
    "##### Question 2: Comparing Calculated Results to Experimental Data."
   ]
  },
  {
   "cell_type": "code",
   "execution_count": 131,
   "metadata": {},
   "outputs": [
    {
     "data": {
      "text/html": [
       "<div>\n",
       "<style scoped>\n",
       "    .dataframe tbody tr th:only-of-type {\n",
       "        vertical-align: middle;\n",
       "    }\n",
       "\n",
       "    .dataframe tbody tr th {\n",
       "        vertical-align: top;\n",
       "    }\n",
       "\n",
       "    .dataframe thead th {\n",
       "        text-align: right;\n",
       "    }\n",
       "</style>\n",
       "<table border=\"1\" class=\"dataframe\">\n",
       "  <thead>\n",
       "    <tr style=\"text-align: right;\">\n",
       "      <th></th>\n",
       "      <th>Reference</th>\n",
       "      <th>Temp [K]</th>\n",
       "      <th>A</th>\n",
       "      <th>Ea [kJ/mol]</th>\n",
       "      <th>Order</th>\n",
       "    </tr>\n",
       "  </thead>\n",
       "  <tbody>\n",
       "    <tr>\n",
       "      <th>0</th>\n",
       "      <td>1982FUR/PAC916-920</td>\n",
       "      <td>690 - 1040</td>\n",
       "      <td>3.160000e+15</td>\n",
       "      <td>276</td>\n",
       "      <td>1</td>\n",
       "    </tr>\n",
       "    <tr>\n",
       "      <th>1</th>\n",
       "      <td>1998DUB/LIF3299-3306</td>\n",
       "      <td>714 - 1250</td>\n",
       "      <td>8.130000e+15</td>\n",
       "      <td>279</td>\n",
       "      <td>1</td>\n",
       "    </tr>\n",
       "    <tr>\n",
       "      <th>2</th>\n",
       "      <td>1990HOH/KER1414-1417</td>\n",
       "      <td>690 - 750</td>\n",
       "      <td>8.040000e+14</td>\n",
       "      <td>268</td>\n",
       "      <td>1</td>\n",
       "    </tr>\n",
       "    <tr>\n",
       "      <th>3</th>\n",
       "      <td>1987HID/OKI212</td>\n",
       "      <td>1100 - 1450</td>\n",
       "      <td>4.600000e+14</td>\n",
       "      <td>262</td>\n",
       "      <td>1</td>\n",
       "    </tr>\n",
       "    <tr>\n",
       "      <th>4</th>\n",
       "      <td>1986RIC/ROG408-414</td>\n",
       "      <td>809 - 912</td>\n",
       "      <td>1.580000e+15</td>\n",
       "      <td>274</td>\n",
       "      <td>1</td>\n",
       "    </tr>\n",
       "  </tbody>\n",
       "</table>\n",
       "</div>"
      ],
      "text/plain": [
       "              Reference     Temp [K]             A  Ea [kJ/mol]  Order\n",
       "0    1982FUR/PAC916-920   690 - 1040  3.160000e+15          276      1\n",
       "1  1998DUB/LIF3299-3306   714 - 1250  8.130000e+15          279      1\n",
       "2  1990HOH/KER1414-1417    690 - 750  8.040000e+14          268      1\n",
       "3        1987HID/OKI212  1100 - 1450  4.600000e+14          262      1\n",
       "4    1986RIC/ROG408-414    809 - 912  1.580000e+15          274      1"
      ]
     },
     "execution_count": 131,
     "metadata": {},
     "output_type": "execute_result"
    }
   ],
   "source": [
    "#load dataset into pandas df \n",
    "filename = \"Ex1_Arrh2.csv\"\n",
    "data = pd.read_csv(filename)\n",
    "\n",
    "#quick overview of data\n",
    "data.head()"
   ]
  },
  {
   "cell_type": "code",
   "execution_count": 132,
   "metadata": {},
   "outputs": [
    {
     "data": {
      "text/plain": [
       "count     27.000000\n",
       "mean     269.518519\n",
       "std       11.470264\n",
       "min      230.000000\n",
       "25%      268.500000\n",
       "50%      272.000000\n",
       "75%      275.000000\n",
       "max      283.000000\n",
       "Name: Ea [kJ/mol], dtype: float64"
      ]
     },
     "execution_count": 132,
     "metadata": {},
     "output_type": "execute_result"
    }
   ],
   "source": [
    "#summary of results\n",
    "\n",
    "data[\"Ea [kJ/mol]\"].describe()"
   ]
  },
  {
   "cell_type": "code",
   "execution_count": 137,
   "metadata": {},
   "outputs": [
    {
     "name": "stdout",
     "output_type": "stream",
     "text": [
      "Bootstrap Statistics:\n",
      "original: 272.0\n",
      "bootstrapped: 274.0\n",
      "bias: 2.0\n",
      "std. error: 0.0\n",
      "269.51851851851853\n"
     ]
    }
   ],
   "source": [
    "from sklearn.utils import resample\n",
    "var = data[\"Ea [kJ/mol]\"]        \n",
    "results=[]\n",
    "for nrepeat in range(20):  \n",
    "    results.append(sample.median())\n",
    "results = pd.Series(results)\n",
    "\n",
    "print('Bootstrap Statistics:')\n",
    "print(f'original: {var.median()}')\n",
    "print(f'bootstrapped: {results.median()}')\n",
    "print(f'bias: {results.mean() - var.median()}')\n",
    "print(f'std. error: {results.std()}')\n",
    "\n",
    "print(var.mean())"
   ]
  },
  {
   "cell_type": "code",
   "execution_count": null,
   "metadata": {},
   "outputs": [],
   "source": [
    "#No change in results after bootstrapping"
   ]
  },
  {
   "cell_type": "code",
   "execution_count": null,
   "metadata": {},
   "outputs": [],
   "source": []
  }
 ],
 "metadata": {
  "kernelspec": {
   "display_name": "Python 3.8.8 ('base')",
   "language": "python",
   "name": "python3"
  },
  "language_info": {
   "codemirror_mode": {
    "name": "ipython",
    "version": 3
   },
   "file_extension": ".py",
   "mimetype": "text/x-python",
   "name": "python",
   "nbconvert_exporter": "python",
   "pygments_lexer": "ipython3",
   "version": "3.8.8"
  },
  "orig_nbformat": 4,
  "vscode": {
   "interpreter": {
    "hash": "40d3a090f54c6569ab1632332b64b2c03c39dcf918b08424e98f38b5ae0af88f"
   }
  }
 },
 "nbformat": 4,
 "nbformat_minor": 2
}
